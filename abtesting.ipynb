{
 "cells": [
  {
   "cell_type": "code",
   "execution_count": 1,
   "metadata": {},
   "outputs": [],
   "source": [
    "import pandas as pd\n",
    "import numpy as np\n",
    "import matplotlib.pyplot as plt"
   ]
  },
  {
   "cell_type": "code",
   "execution_count": 2,
   "metadata": {},
   "outputs": [
    {
     "name": "stdout",
     "output_type": "stream",
     "text": [
      "C:\\Users\\an-user\\project_files\\AB_Testing_Project\n"
     ]
    }
   ],
   "source": [
    "cd C:\\Users\\an-user\\project_files\\AB_Testing_Project"
   ]
  },
  {
   "cell_type": "code",
   "execution_count": 35,
   "metadata": {},
   "outputs": [],
   "source": [
    "df1 = pd.read_csv('ab_data.csv')\n",
    "df2 = pd.read_csv('countries.csv')"
   ]
  },
  {
   "cell_type": "code",
   "execution_count": 6,
   "metadata": {},
   "outputs": [],
   "source": [
    "df = pd.merge(df1, df2, on = 'user_id')"
   ]
  },
  {
   "cell_type": "code",
   "execution_count": 7,
   "metadata": {},
   "outputs": [],
   "source": [
    "df.to_csv('total_data.csv')"
   ]
  },
  {
   "cell_type": "code",
   "execution_count": 36,
   "metadata": {},
   "outputs": [
    {
     "name": "stdout",
     "output_type": "stream",
     "text": [
      "<class 'pandas.core.frame.DataFrame'>\n",
      "RangeIndex: 294478 entries, 0 to 294477\n",
      "Data columns (total 5 columns):\n",
      "user_id         294478 non-null int64\n",
      "timestamp       294478 non-null object\n",
      "group           294478 non-null object\n",
      "landing_page    294478 non-null object\n",
      "converted       294478 non-null int64\n",
      "dtypes: int64(2), object(3)\n",
      "memory usage: 11.2+ MB\n"
     ]
    }
   ],
   "source": [
    "df1.info()"
   ]
  },
  {
   "cell_type": "code",
   "execution_count": 37,
   "metadata": {},
   "outputs": [
    {
     "name": "stdout",
     "output_type": "stream",
     "text": [
      "<class 'pandas.core.frame.DataFrame'>\n",
      "RangeIndex: 290584 entries, 0 to 290583\n",
      "Data columns (total 2 columns):\n",
      "user_id    290584 non-null int64\n",
      "country    290584 non-null object\n",
      "dtypes: int64(1), object(1)\n",
      "memory usage: 4.4+ MB\n"
     ]
    }
   ],
   "source": [
    "df2.info()"
   ]
  },
  {
   "cell_type": "markdown",
   "metadata": {},
   "source": [
    "1 Exploratory Data Analysis\n",
    "================\n",
    "\n",
    "1 -1 Data Assess and Cleaning\n",
    "-----------------"
   ]
  },
  {
   "cell_type": "code",
   "execution_count": 2,
   "metadata": {},
   "outputs": [],
   "source": [
    "df = pd.read_csv('total_data.csv')\n",
    "df.rename(columns = {'Unnamed: 0':'index_number'}, inplace = True)"
   ]
  },
  {
   "cell_type": "code",
   "execution_count": 87,
   "metadata": {},
   "outputs": [
    {
     "name": "stdout",
     "output_type": "stream",
     "text": [
      "<class 'pandas.core.frame.DataFrame'>\n",
      "RangeIndex: 294478 entries, 0 to 294477\n",
      "Data columns (total 7 columns):\n",
      "index_number    294478 non-null int64\n",
      "user_id         294478 non-null int64\n",
      "timestamp       294478 non-null object\n",
      "group           294478 non-null object\n",
      "landing_page    294478 non-null object\n",
      "converted       294478 non-null int64\n",
      "country         294478 non-null object\n",
      "dtypes: int64(3), object(4)\n",
      "memory usage: 15.7+ MB\n"
     ]
    }
   ],
   "source": [
    "df.info()"
   ]
  },
  {
   "cell_type": "markdown",
   "metadata": {},
   "source": [
    "### (1) Quality Issue - Mismatch between variable and variable type\n",
    "\n",
    "timestamp is considered as object in the orgiginal data frame, yet this variable has to be treated as time. This issue might cause serious issue since object cannot be calculated, but time variable could be calculated with simple mathematics. So this should be changed into datetime category."
   ]
  },
  {
   "cell_type": "code",
   "execution_count": 4,
   "metadata": {},
   "outputs": [
    {
     "name": "stdout",
     "output_type": "stream",
     "text": [
      "<class 'pandas.core.frame.DataFrame'>\n",
      "RangeIndex: 294478 entries, 0 to 294477\n",
      "Data columns (total 7 columns):\n",
      "index_number    294478 non-null int64\n",
      "user_id         294478 non-null int64\n",
      "timestamp       294478 non-null datetime64[ns]\n",
      "group           294478 non-null object\n",
      "landing_page    294478 non-null object\n",
      "converted       294478 non-null int64\n",
      "country         294478 non-null object\n",
      "dtypes: datetime64[ns](1), int64(3), object(3)\n",
      "memory usage: 15.7+ MB\n"
     ]
    }
   ],
   "source": [
    "df['timestamp'] = pd.to_datetime(df.timestamp)\n",
    "df.info()"
   ]
  },
  {
   "cell_type": "markdown",
   "metadata": {},
   "source": [
    "### (2) Unique Observations - Are there any duplicated particiapnts or Missing Values?"
   ]
  },
  {
   "cell_type": "markdown",
   "metadata": {},
   "source": [
    "#### 1) Missing Values\n",
    "\n",
    "In order to find out whether there are missing values, isnull and sum methods are used as follows."
   ]
  },
  {
   "cell_type": "code",
   "execution_count": 6,
   "metadata": {},
   "outputs": [
    {
     "data": {
      "text/plain": [
       "index_number    0\n",
       "user_id         0\n",
       "timestamp       0\n",
       "group           0\n",
       "landing_page    0\n",
       "converted       0\n",
       "country         0\n",
       "dtype: int64"
      ]
     },
     "execution_count": 6,
     "metadata": {},
     "output_type": "execute_result"
    }
   ],
   "source": [
    "df.isnull().sum()"
   ]
  },
  {
   "cell_type": "markdown",
   "metadata": {},
   "source": [
    "It is clear that there is no missing values. So we could pass this part.\n",
    "\n",
    "\n",
    "#### 2) Duplicated  Values\n",
    "\n",
    "To find out how many duplicated observations are there, shape,nunique and duplicated methods are useful and strong tool to verify this problem."
   ]
  },
  {
   "cell_type": "code",
   "execution_count": 90,
   "metadata": {},
   "outputs": [
    {
     "data": {
      "text/plain": [
       "(294478, 7)"
      ]
     },
     "execution_count": 90,
     "metadata": {},
     "output_type": "execute_result"
    }
   ],
   "source": [
    "df.shape"
   ]
  },
  {
   "cell_type": "code",
   "execution_count": 9,
   "metadata": {},
   "outputs": [
    {
     "data": {
      "text/plain": [
       "index_number    294478\n",
       "user_id         290584\n",
       "timestamp       294478\n",
       "group                2\n",
       "landing_page         2\n",
       "converted            2\n",
       "country              3\n",
       "dtype: int64"
      ]
     },
     "execution_count": 9,
     "metadata": {},
     "output_type": "execute_result"
    }
   ],
   "source": [
    "df.nunique()"
   ]
  },
  {
   "cell_type": "code",
   "execution_count": 11,
   "metadata": {},
   "outputs": [
    {
     "data": {
      "text/plain": [
       "3894"
      ]
     },
     "execution_count": 11,
     "metadata": {},
     "output_type": "execute_result"
    }
   ],
   "source": [
    "df.user_id.duplicated().sum()"
   ]
  },
  {
   "cell_type": "markdown",
   "metadata": {},
   "source": [
    "There seems to be a duplication problem here. Total number of rows are 294478 whereas the number of user_id's unique value is 290584. \n",
    "In order to check where this discrepancy came from, I have counted number of duplicated user_id and it was 3984. This part has caused inconsistency between total number of rows and unique values.\n",
    "\n",
    "\n",
    "This quality issue is solved by applying for loop in the data frame as follows."
   ]
  },
  {
   "cell_type": "code",
   "execution_count": 3,
   "metadata": {},
   "outputs": [],
   "source": [
    "df['dupli'] = df.user_id.duplicated()\n",
    "index_list = []\n",
    "for i in range(0, df.shape[0]):\n",
    "    if df.dupli[i] == True:\n",
    "        index_list.append(df.index_number[i])\n",
    "    else:\n",
    "        pass\n",
    "\n",
    "df = df.drop(index_list)"
   ]
  },
  {
   "cell_type": "code",
   "execution_count": 6,
   "metadata": {},
   "outputs": [
    {
     "data": {
      "text/plain": [
       "index_number    290584\n",
       "user_id         290584\n",
       "timestamp       290584\n",
       "group                2\n",
       "landing_page         2\n",
       "converted            2\n",
       "country              3\n",
       "dupli                1\n",
       "dtype: int64"
      ]
     },
     "execution_count": 6,
     "metadata": {},
     "output_type": "execute_result"
    }
   ],
   "source": [
    "df.nunique()"
   ]
  },
  {
   "cell_type": "code",
   "execution_count": 7,
   "metadata": {},
   "outputs": [
    {
     "name": "stdout",
     "output_type": "stream",
     "text": [
      "<class 'pandas.core.frame.DataFrame'>\n",
      "Int64Index: 290584 entries, 0 to 294477\n",
      "Data columns (total 8 columns):\n",
      "index_number    290584 non-null int64\n",
      "user_id         290584 non-null int64\n",
      "timestamp       290584 non-null datetime64[ns]\n",
      "group           290584 non-null object\n",
      "landing_page    290584 non-null object\n",
      "converted       290584 non-null int64\n",
      "country         290584 non-null object\n",
      "dupli           290584 non-null bool\n",
      "dtypes: bool(1), datetime64[ns](1), int64(3), object(3)\n",
      "memory usage: 18.0+ MB\n"
     ]
    }
   ],
   "source": [
    "df.info()"
   ]
  },
  {
   "cell_type": "markdown",
   "metadata": {},
   "source": [
    "By removing duplicated rows in data frame, we now have 290584 unique observations. So far, I have cleaned dirty and messy data so that the data frame is qualified enought to be proceeded into more sophisticated analysis. "
   ]
  },
  {
   "cell_type": "markdown",
   "metadata": {},
   "source": [
    "1 -2 Univariate Data Analysis\n",
    "-------------------------\n",
    "\n",
    "\n",
    "A reason why univariate analysis is conducted is that it is possible for researchers to have a basic understanding of variables and there is certain error or not before moving on to more profound models. Since this research model is more like a two by two ANOVA analysis, it is important to check that each cell has similar amount of sample size because if there is discrepancy among cells, someone might suggest validity issues. "
   ]
  },
  {
   "cell_type": "code",
   "execution_count": 8,
   "metadata": {},
   "outputs": [
    {
     "data": {
      "image/png": "[encoded data removed]",
      "text/plain": [
       "<Figure size 432x288 with 2 Axes>"
      ]
     },
     "metadata": {},
     "output_type": "display_data"
    }
   ],
   "source": [
    "##Comparing Number of Samples in Each Cell.\n",
    "\n",
    "plt.subplot(1, 2, 1)\n",
    "\n",
    "group_df = df.group.value_counts()\n",
    "group_df.plot(kind = 'bar')\n",
    "plt.title('Number of People in Each Group')\n",
    "plt.xlabel('Group Category')\n",
    "plt.ylabel('Number of People')\n",
    "\n",
    "plt.subplot(1, 2, 2)\n",
    "landingpage_df = df.landing_page.value_counts()\n",
    "landingpage_df.plot(kind = 'bar')\n",
    "plt.title('Number of People in Landing Page')\n",
    "plt.xlabel('Page Type')\n",
    "plt.ylabel('Number of People');\n",
    "\n",
    "plt.tight_layout(pad=0.4, w_pad=1, h_pad=1.0);"
   ]
  },
  {
   "cell_type": "markdown",
   "metadata": {},
   "source": [
    "From two bar charts, we could conclude that each cell has similar level of sample size, leading us to move on to hypothesis testing. "
   ]
  },
  {
   "cell_type": "code",
   "execution_count": 9,
   "metadata": {},
   "outputs": [
    {
     "data": {
      "image/png": "[encoded data removed]",
      "text/plain": [
       "<Figure size 432x288 with 1 Axes>"
      ]
     },
     "metadata": {},
     "output_type": "display_data"
    }
   ],
   "source": [
    "pie_country = df.country.value_counts()\n",
    "labels = 'US', 'UK', 'CA'\n",
    "explode = (0.1, 0, 0)\n",
    "plt.pie(pie_country, labels = labels,\n",
    "        explode = explode, shadow = True, autopct = '%1.1f%%', \n",
    "        startangle = 90)\n",
    "plt.title('Percentage of Nation');"
   ]
  },
  {
   "cell_type": "markdown",
   "metadata": {},
   "source": [
    "On the basis of univariate analysis above, it was possible to get a sense of what this dataset contains and of the variables features. To sum up the points, there were nice balance regarding number of sample between treatment and control group, between old page and new page. In addition, this research was conducted toward Western culture people, most of whom consisted of US citizens. "
   ]
  },
  {
   "cell_type": "markdown",
   "metadata": {},
   "source": [
    "2 Initializing AB Test\n",
    "===================\n",
    "\n",
    "2 - 1 Conceptual Framework\n",
    "--------------------"
   ]
  },
  {
   "cell_type": "markdown",
   "metadata": {},
   "source": [
    "The simple version yet main question is to answer this one. **Did more customers converted to real purchase in new page than old page? Did new page worked better than old page regarding sales?**\n",
    "\n",
    "In order to answer this question, necessary variables should be defined in academic way, and relevant hypothesis should be established. \n",
    "\n",
    "\n",
    "#### (1) Necessary Variables and Groups\n",
    "\n",
    "First, possiblity of converting in each webpage. \n",
    "\n",
    "Second, treatment group and control group.\n",
    "\n",
    "\n",
    "To categorize the groups based on the above criteria and get the possiblity of converting rate, it is better to make sub-dataframe based on group category. So we need two sub-dataframe; one is for control group, which means they got old page. The other is for treatment group, which stands for they received new page. \n",
    "\n",
    "However, someone might ask that what if there are control group who got new page and vice versa. These people whose group category and page type do not line up should be exempted from the further research. \n",
    "\n",
    "Following coding will divide total dataframe into sub dataframes, reflecting the above consideration."
   ]
  },
  {
   "cell_type": "code",
   "execution_count": 4,
   "metadata": {},
   "outputs": [
    {
     "data": {
      "text/html": [
       "<div>\n",
       "<style scoped>\n",
       "    .dataframe tbody tr th:only-of-type {\n",
       "        vertical-align: middle;\n",
       "    }\n",
       "\n",
       "    .dataframe tbody tr th {\n",
       "        vertical-align: top;\n",
       "    }\n",
       "\n",
       "    .dataframe thead th {\n",
       "        text-align: right;\n",
       "    }\n",
       "</style>\n",
       "<table border=\"1\" class=\"dataframe\">\n",
       "  <thead>\n",
       "    <tr style=\"text-align: right;\">\n",
       "      <th></th>\n",
       "      <th>user_id</th>\n",
       "      <th>timestamp</th>\n",
       "      <th>group</th>\n",
       "      <th>landing_page</th>\n",
       "      <th>converted</th>\n",
       "      <th>country</th>\n",
       "    </tr>\n",
       "  </thead>\n",
       "  <tbody>\n",
       "    <tr>\n",
       "      <th>2</th>\n",
       "      <td>661590</td>\n",
       "      <td>2017-01-11 16:55:06.154213</td>\n",
       "      <td>treatment</td>\n",
       "      <td>new_page</td>\n",
       "      <td>0</td>\n",
       "      <td>US</td>\n",
       "    </tr>\n",
       "    <tr>\n",
       "      <th>3</th>\n",
       "      <td>853541</td>\n",
       "      <td>2017-01-08 18:28:03.143765</td>\n",
       "      <td>treatment</td>\n",
       "      <td>new_page</td>\n",
       "      <td>0</td>\n",
       "      <td>US</td>\n",
       "    </tr>\n",
       "    <tr>\n",
       "      <th>6</th>\n",
       "      <td>679687</td>\n",
       "      <td>2017-01-19 03:26:46.940749</td>\n",
       "      <td>treatment</td>\n",
       "      <td>new_page</td>\n",
       "      <td>1</td>\n",
       "      <td>CA</td>\n",
       "    </tr>\n",
       "    <tr>\n",
       "      <th>8</th>\n",
       "      <td>817355</td>\n",
       "      <td>2017-01-04 17:58:08.979471</td>\n",
       "      <td>treatment</td>\n",
       "      <td>new_page</td>\n",
       "      <td>1</td>\n",
       "      <td>UK</td>\n",
       "    </tr>\n",
       "    <tr>\n",
       "      <th>9</th>\n",
       "      <td>839785</td>\n",
       "      <td>2017-01-15 18:11:06.610965</td>\n",
       "      <td>treatment</td>\n",
       "      <td>new_page</td>\n",
       "      <td>1</td>\n",
       "      <td>CA</td>\n",
       "    </tr>\n",
       "  </tbody>\n",
       "</table>\n",
       "</div>"
      ],
      "text/plain": [
       "   user_id                   timestamp      group landing_page  converted  \\\n",
       "2   661590  2017-01-11 16:55:06.154213  treatment     new_page          0   \n",
       "3   853541  2017-01-08 18:28:03.143765  treatment     new_page          0   \n",
       "6   679687  2017-01-19 03:26:46.940749  treatment     new_page          1   \n",
       "8   817355  2017-01-04 17:58:08.979471  treatment     new_page          1   \n",
       "9   839785  2017-01-15 18:11:06.610965  treatment     new_page          1   \n",
       "\n",
       "  country  \n",
       "2      US  \n",
       "3      US  \n",
       "6      CA  \n",
       "8      UK  \n",
       "9      CA  "
      ]
     },
     "execution_count": 4,
     "metadata": {},
     "output_type": "execute_result"
    }
   ],
   "source": [
    "df_treat = df.query('landing_page == \"new_page\" & group == \"treatment\"')\n",
    "df_control = df.query('landing_page == \"old_page\" & group == \"control\"')\n",
    "frame = [df_treat, df_control]\n",
    "df_analysis = pd.concat(frame)\n",
    "df_analysis = df_analysis.drop(columns = ['dupli', 'index_number'])\n",
    "df_analysis.head()"
   ]
  },
  {
   "cell_type": "markdown",
   "metadata": {},
   "source": [
    "Now we have our final dataset which is prepared for Hypothesis testing."
   ]
  },
  {
   "cell_type": "markdown",
   "metadata": {},
   "source": [
    "Initializing Hypothesis Testing\n",
    "------------------------\n",
    "\n",
    "H0. Possibility of converting to real purchase on new web page(p.new) is as same as or worse than possibility of old web page(p.old).\n",
    "\n",
    "H1. Possibility of converting to real purchase on new webpage(p.new) is higher than possibiliy of old web page(p.old).\n",
    "\n",
    "\n",
    "In order to verify H1 is right or not, we are going to start analysis assuming that H0 is right, get null values, distribution of null values by stimulating number of trials, compare null value distribution with observed difference, and calculate p-value. These are stardard steps for conducting Hypothesis testing. \n",
    "\n"
   ]
  },
  {
   "cell_type": "code",
   "execution_count": 9,
   "metadata": {},
   "outputs": [
    {
     "name": "stdout",
     "output_type": "stream",
     "text": [
      "0.11872721981235362 144314 / 0.12029037760181936 144226\n"
     ]
    }
   ],
   "source": [
    "## (1)Convert rate for p.new under the null & number of people on new page\n",
    "p_new = df_analysis[df_analysis['landing_page'] == 'new_page'].converted.mean()\n",
    "n_new = df_analysis[df_analysis['landing_page'] == 'new_page'].shape[0]\n",
    "\n",
    "## (2) Convert rate for old.new under the null & number of people on old page\n",
    "p_old = df_analysis.query('landing_page == \"old_page\"').converted.mean()\n",
    "n_old = df_analysis.query('landing_page == \"old_page\"').shape[0]\n",
    "\n",
    "\n",
    "actual_difference = p_new - p_old\n",
    "print(p_new, n_new, '/' ,p_old, n_old)"
   ]
  },
  {
   "cell_type": "code",
   "execution_count": 8,
   "metadata": {},
   "outputs": [],
   "source": [
    "##Stimulating n_new transactions with convert rate of p_new under the null.\n",
    "new_page_converted = np.random.binomial(1, p_new, n_new).mean()\n",
    "\n",
    "##Stimulating n_old ransactions with convert rate of p_old under the null.\n",
    "old_page_converted = np.random.binomial(1, p_old, n_old).mean()\n",
    "\n",
    "##Difference between the above two values\n",
    "possbility_difference = new_page_converted - old_page_converted"
   ]
  },
  {
   "cell_type": "code",
   "execution_count": 11,
   "metadata": {},
   "outputs": [
    {
     "data": {
      "image/png": "[encoded data removed]",
      "text/plain": [
       "<Figure size 432x288 with 1 Axes>"
      ]
     },
     "metadata": {},
     "output_type": "display_data"
    }
   ],
   "source": [
    "##Stimulating 10,000 p_new - p_old values using the same process.\n",
    "p_diffs = np.random.binomial(n_new, p_new, 10000)/n_new - np.random.binomial(n_old, p_old, 10000)/n_old\n",
    "p_diffs = np.array(p_diffs)\n",
    "plt.hist(p_diffs);\n"
   ]
  },
  {
   "cell_type": "markdown",
   "metadata": {},
   "source": [
    "Getting the proportion of the p_diffs are greater than actual difference observed in the real dataset."
   ]
  },
  {
   "cell_type": "code",
   "execution_count": 15,
   "metadata": {},
   "outputs": [
    {
     "data": {
      "image/png": "[encoded data removed]",
      "text/plain": [
       "<Figure size 432x288 with 1 Axes>"
      ]
     },
     "metadata": {},
     "output_type": "display_data"
    }
   ],
   "source": [
    "null_vals = np.random.normal(0, p_diffs.std(), p_diffs.size)\n",
    "plt.hist(null_vals)\n",
    "plt.axvline(actual_difference, color = 'red');"
   ]
  },
  {
   "cell_type": "code",
   "execution_count": 14,
   "metadata": {},
   "outputs": [
    {
     "data": {
      "text/plain": [
       "0.8968"
      ]
     },
     "execution_count": 14,
     "metadata": {},
     "output_type": "execute_result"
    }
   ],
   "source": [
    "(null_vals > actual_difference).mean()"
   ]
  },
  {
   "cell_type": "code",
   "execution_count": null,
   "metadata": {},
   "outputs": [],
   "source": []
  }
 ],
 "metadata": {
  "kernelspec": {
   "display_name": "Python [default]",
   "language": "python",
   "name": "python3"
  },
  "language_info": {
   "codemirror_mode": {
    "name": "ipython",
    "version": 3
   },
   "file_extension": ".py",
   "mimetype": "text/x-python",
   "name": "python",
   "nbconvert_exporter": "python",
   "pygments_lexer": "ipython3",
   "version": "3.6.5"
  }
 },
 "nbformat": 4,
 "nbformat_minor": 2
}
